{
  "cells": [
    {
      "cell_type": "markdown",
      "source": [
        "# Wildfire detection"
      ],
      "metadata": {
        "id": "4Ie59FhXrHIj"
      }
    },
    {
      "cell_type": "markdown",
      "source": [
        "## Convolutional Neural Network"
      ],
      "metadata": {
        "id": "Sf6i0WwMrNEf"
      }
    },
    {
      "cell_type": "markdown",
      "source": [
        "### Data pre-processing"
      ],
      "metadata": {
        "id": "w5ShgEKTrr79"
      }
    },
    {
      "cell_type": "code",
      "execution_count": null,
      "metadata": {
        "id": "OTJ99DYE6WeC"
      },
      "outputs": [],
      "source": [
        "import os, cv2\n",
        "path = \"/content/drive/MyDrive/forest_fire/training\""
      ]
    },
    {
      "cell_type": "code",
      "execution_count": null,
      "metadata": {
        "id": "6D_CPfdcxiDc"
      },
      "outputs": [],
      "source": [
        "file_o = os.listdir(path+\"/fire\")\n",
        "\n",
        "for fil in file_o:\n",
        "    a = cv2.imread(path+\"/fire/\"+fil)\n",
        "    resized = cv2.resize(a, (256,256))\n",
        "    cv2.imwrite(path+\"/data/\"+\"fire.\"+fil, resized)"
      ]
    },
    {
      "cell_type": "code",
      "execution_count": null,
      "metadata": {
        "id": "baADKU9fCSD_"
      },
      "outputs": [],
      "source": [
        "file_o = os.listdir(path+\"/nofire\")\n",
        "\n",
        "for fil in file_o:\n",
        "    a = cv2.imread(path+\"/nofire/\"+fil)\n",
        "    resized = cv2.resize(a, (256,256))\n",
        "    cv2.imwrite(path+\"/data/\"+\"nofire.\"+fil, resized)"
      ]
    },
    {
      "cell_type": "code",
      "execution_count": null,
      "metadata": {
        "id": "9WQYvoJH0ovh"
      },
      "outputs": [],
      "source": [
        "import pandas as pd\n",
        "import numpy as np\n",
        "import matplotlib.pyplot as plt\n",
        "import random\n",
        "from keras.preprocessing.image import ImageDataGenerator, load_img\n",
        "from sklearn.model_selection import train_test_split"
      ]
    },
    {
      "cell_type": "code",
      "execution_count": null,
      "metadata": {
        "id": "hDHnw3nWCxvm"
      },
      "outputs": [],
      "source": [
        "filenames = os.listdir(path+\"/data\")\n",
        "categories = []\n",
        "for filename in filenames:\n",
        "    category = filename.split('.')[0]\n",
        "    if category == 'fire':\n",
        "        categories.append(1)\n",
        "    else:\n",
        "        categories.append(0)\n",
        "\n",
        "df = pd.DataFrame({\n",
        "    'filename': filenames,\n",
        "    'category': categories\n",
        "})"
      ]
    },
    {
      "cell_type": "code",
      "execution_count": null,
      "metadata": {
        "colab": {
          "base_uri": "https://localhost:8080/",
          "height": 206
        },
        "id": "BcqioIWVDAL3",
        "outputId": "83c9827e-075b-4800-b8e0-00b7d800a39c"
      },
      "outputs": [
        {
          "output_type": "execute_result",
          "data": {
            "text/plain": [
              "             filename  category\n",
              "0  fire.fire_0324.jpg         1\n",
              "1  fire.fire_0329.jpg         1\n",
              "2  fire.fire_0323.jpg         1\n",
              "3  fire.fire_0369.jpg         1\n",
              "4  fire.fire_0376.jpg         1"
            ],
            "text/html": [
              "\n",
              "  <div id=\"df-976f88c9-9743-4cc9-95a0-7070fc3718e4\">\n",
              "    <div class=\"colab-df-container\">\n",
              "      <div>\n",
              "<style scoped>\n",
              "    .dataframe tbody tr th:only-of-type {\n",
              "        vertical-align: middle;\n",
              "    }\n",
              "\n",
              "    .dataframe tbody tr th {\n",
              "        vertical-align: top;\n",
              "    }\n",
              "\n",
              "    .dataframe thead th {\n",
              "        text-align: right;\n",
              "    }\n",
              "</style>\n",
              "<table border=\"1\" class=\"dataframe\">\n",
              "  <thead>\n",
              "    <tr style=\"text-align: right;\">\n",
              "      <th></th>\n",
              "      <th>filename</th>\n",
              "      <th>category</th>\n",
              "    </tr>\n",
              "  </thead>\n",
              "  <tbody>\n",
              "    <tr>\n",
              "      <th>0</th>\n",
              "      <td>fire.fire_0324.jpg</td>\n",
              "      <td>1</td>\n",
              "    </tr>\n",
              "    <tr>\n",
              "      <th>1</th>\n",
              "      <td>fire.fire_0329.jpg</td>\n",
              "      <td>1</td>\n",
              "    </tr>\n",
              "    <tr>\n",
              "      <th>2</th>\n",
              "      <td>fire.fire_0323.jpg</td>\n",
              "      <td>1</td>\n",
              "    </tr>\n",
              "    <tr>\n",
              "      <th>3</th>\n",
              "      <td>fire.fire_0369.jpg</td>\n",
              "      <td>1</td>\n",
              "    </tr>\n",
              "    <tr>\n",
              "      <th>4</th>\n",
              "      <td>fire.fire_0376.jpg</td>\n",
              "      <td>1</td>\n",
              "    </tr>\n",
              "  </tbody>\n",
              "</table>\n",
              "</div>\n",
              "      <button class=\"colab-df-convert\" onclick=\"convertToInteractive('df-976f88c9-9743-4cc9-95a0-7070fc3718e4')\"\n",
              "              title=\"Convert this dataframe to an interactive table.\"\n",
              "              style=\"display:none;\">\n",
              "        \n",
              "  <svg xmlns=\"http://www.w3.org/2000/svg\" height=\"24px\"viewBox=\"0 0 24 24\"\n",
              "       width=\"24px\">\n",
              "    <path d=\"M0 0h24v24H0V0z\" fill=\"none\"/>\n",
              "    <path d=\"M18.56 5.44l.94 2.06.94-2.06 2.06-.94-2.06-.94-.94-2.06-.94 2.06-2.06.94zm-11 1L8.5 8.5l.94-2.06 2.06-.94-2.06-.94L8.5 2.5l-.94 2.06-2.06.94zm10 10l.94 2.06.94-2.06 2.06-.94-2.06-.94-.94-2.06-.94 2.06-2.06.94z\"/><path d=\"M17.41 7.96l-1.37-1.37c-.4-.4-.92-.59-1.43-.59-.52 0-1.04.2-1.43.59L10.3 9.45l-7.72 7.72c-.78.78-.78 2.05 0 2.83L4 21.41c.39.39.9.59 1.41.59.51 0 1.02-.2 1.41-.59l7.78-7.78 2.81-2.81c.8-.78.8-2.07 0-2.86zM5.41 20L4 18.59l7.72-7.72 1.47 1.35L5.41 20z\"/>\n",
              "  </svg>\n",
              "      </button>\n",
              "      \n",
              "  <style>\n",
              "    .colab-df-container {\n",
              "      display:flex;\n",
              "      flex-wrap:wrap;\n",
              "      gap: 12px;\n",
              "    }\n",
              "\n",
              "    .colab-df-convert {\n",
              "      background-color: #E8F0FE;\n",
              "      border: none;\n",
              "      border-radius: 50%;\n",
              "      cursor: pointer;\n",
              "      display: none;\n",
              "      fill: #1967D2;\n",
              "      height: 32px;\n",
              "      padding: 0 0 0 0;\n",
              "      width: 32px;\n",
              "    }\n",
              "\n",
              "    .colab-df-convert:hover {\n",
              "      background-color: #E2EBFA;\n",
              "      box-shadow: 0px 1px 2px rgba(60, 64, 67, 0.3), 0px 1px 3px 1px rgba(60, 64, 67, 0.15);\n",
              "      fill: #174EA6;\n",
              "    }\n",
              "\n",
              "    [theme=dark] .colab-df-convert {\n",
              "      background-color: #3B4455;\n",
              "      fill: #D2E3FC;\n",
              "    }\n",
              "\n",
              "    [theme=dark] .colab-df-convert:hover {\n",
              "      background-color: #434B5C;\n",
              "      box-shadow: 0px 1px 3px 1px rgba(0, 0, 0, 0.15);\n",
              "      filter: drop-shadow(0px 1px 2px rgba(0, 0, 0, 0.3));\n",
              "      fill: #FFFFFF;\n",
              "    }\n",
              "  </style>\n",
              "\n",
              "      <script>\n",
              "        const buttonEl =\n",
              "          document.querySelector('#df-976f88c9-9743-4cc9-95a0-7070fc3718e4 button.colab-df-convert');\n",
              "        buttonEl.style.display =\n",
              "          google.colab.kernel.accessAllowed ? 'block' : 'none';\n",
              "\n",
              "        async function convertToInteractive(key) {\n",
              "          const element = document.querySelector('#df-976f88c9-9743-4cc9-95a0-7070fc3718e4');\n",
              "          const dataTable =\n",
              "            await google.colab.kernel.invokeFunction('convertToInteractive',\n",
              "                                                     [key], {});\n",
              "          if (!dataTable) return;\n",
              "\n",
              "          const docLinkHtml = 'Like what you see? Visit the ' +\n",
              "            '<a target=\"_blank\" href=https://colab.research.google.com/notebooks/data_table.ipynb>data table notebook</a>'\n",
              "            + ' to learn more about interactive tables.';\n",
              "          element.innerHTML = '';\n",
              "          dataTable['output_type'] = 'display_data';\n",
              "          await google.colab.output.renderOutput(dataTable, element);\n",
              "          const docLink = document.createElement('div');\n",
              "          docLink.innerHTML = docLinkHtml;\n",
              "          element.appendChild(docLink);\n",
              "        }\n",
              "      </script>\n",
              "    </div>\n",
              "  </div>\n",
              "  "
            ]
          },
          "metadata": {},
          "execution_count": 14
        }
      ],
      "source": [
        "df.head()"
      ]
    },
    {
      "cell_type": "code",
      "execution_count": null,
      "metadata": {
        "colab": {
          "base_uri": "https://localhost:8080/",
          "height": 279
        },
        "id": "6lGKCxqODDRk",
        "outputId": "005f905f-b409-4278-b7b7-c177d3811a26"
      },
      "outputs": [
        {
          "output_type": "execute_result",
          "data": {
            "text/plain": [
              "<matplotlib.axes._subplots.AxesSubplot at 0x7f09108229d0>"
            ]
          },
          "metadata": {},
          "execution_count": 15
        },
        {
          "output_type": "display_data",
          "data": {
            "text/plain": [
              "<Figure size 432x288 with 1 Axes>"
            ],
            "image/png": "[encoded data removed]"
          },
          "metadata": {
            "needs_background": "light"
          }
        }
      ],
      "source": [
        "df['category'].value_counts().plot.bar()"
      ]
    },
    {
      "cell_type": "code",
      "execution_count": null,
      "metadata": {
        "colab": {
          "base_uri": "https://localhost:8080/",
          "height": 286
        },
        "id": "7re5XI0eDPkH",
        "outputId": "c8db0903-49a3-41d2-86b1-fc061ba97cf9"
      },
      "outputs": [
        {
          "data": {
            "text/plain": [
              "<matplotlib.image.AxesImage at 0x7f3266252390>"
            ]
          },
          "execution_count": 14,
          "metadata": {},
          "output_type": "execute_result"
        },
        {
          "data": {
            "image/png": "[encoded data removed]",
            "text/plain": [
              "<Figure size 432x288 with 1 Axes>"
            ]
          },
          "metadata": {},
          "output_type": "display_data"
        }
      ],
      "source": [
        "sample = random.choice(filenames)\n",
        "image = load_img(path+\"/data/\"+sample)\n",
        "plt.imshow(image)"
      ]
    },
    {
      "cell_type": "code",
      "execution_count": null,
      "metadata": {
        "id": "v4U6p3qGDT_O"
      },
      "outputs": [],
      "source": [
        "df[\"category\"] = df[\"category\"].replace({0: 'nofire', 1: 'fire'})"
      ]
    },
    {
      "cell_type": "code",
      "execution_count": null,
      "metadata": {
        "id": "JdoWZSKdDpxc"
      },
      "outputs": [],
      "source": [
        "train_df, validate_df = train_test_split(df, test_size=0.20, random_state=42)\n",
        "train_df = train_df.reset_index(drop=True)\n",
        "validate_df = validate_df.reset_index(drop=True)"
      ]
    },
    {
      "cell_type": "code",
      "execution_count": null,
      "metadata": {
        "colab": {
          "base_uri": "https://localhost:8080/"
        },
        "id": "Y6TvlILADwrc",
        "outputId": "ce377e2d-b543-4ba7-b12b-4c88bcfd5a3c"
      },
      "outputs": [
        {
          "output_type": "stream",
          "name": "stdout",
          "text": [
            "Found 1465 validated image filenames belonging to 2 classes.\n"
          ]
        }
      ],
      "source": [
        "train_datagen = ImageDataGenerator(\n",
        "    rotation_range=15,\n",
        "    rescale=1./255,\n",
        "    shear_range=0.1,\n",
        "    zoom_range=0.2,\n",
        "    horizontal_flip=True,\n",
        "    width_shift_range=0.1,\n",
        "    height_shift_range=0.1\n",
        ")\n",
        "\n",
        "train_generator = train_datagen.flow_from_dataframe(\n",
        "    train_df, \n",
        "    path+\"/data\", \n",
        "    x_col='filename',\n",
        "    y_col='category',\n",
        "    target_size=(256,256),\n",
        "    class_mode='categorical',\n",
        "    batch_size=100\n",
        ")"
      ]
    },
    {
      "cell_type": "code",
      "execution_count": null,
      "metadata": {
        "colab": {
          "base_uri": "https://localhost:8080/"
        },
        "id": "rYkyO5wdEmOZ",
        "outputId": "f0adb909-b7bb-476b-ff1b-3480f3a56f40"
      },
      "outputs": [
        {
          "output_type": "stream",
          "name": "stdout",
          "text": [
            "Found 367 validated image filenames belonging to 2 classes.\n"
          ]
        }
      ],
      "source": [
        "validation_datagen = ImageDataGenerator(rescale=1./255)\n",
        "validation_generator = validation_datagen.flow_from_dataframe(\n",
        "    validate_df, \n",
        "    path+\"/data\", \n",
        "    x_col='filename',\n",
        "    y_col='category',\n",
        "    target_size=(256,256),\n",
        "    class_mode='categorical',\n",
        "    batch_size=100\n",
        ")"
      ]
    },
    {
      "cell_type": "markdown",
      "source": [
        "## Building CNN model"
      ],
      "metadata": {
        "id": "Wd-cINTjrzaW"
      }
    },
    {
      "cell_type": "code",
      "execution_count": null,
      "metadata": {
        "colab": {
          "base_uri": "https://localhost:8080/"
        },
        "id": "UVpweisQE5CG",
        "outputId": "da0211d6-5902-4f1c-9f68-424e98bb9c22"
      },
      "outputs": [
        {
          "name": "stdout",
          "output_type": "stream",
          "text": [
            "Model: \"sequential\"\n",
            "_________________________________________________________________\n",
            " Layer (type)                Output Shape              Param #   \n",
            "=================================================================\n",
            " conv2d (Conv2D)             (None, 254, 254, 32)      896       \n",
            "                                                                 \n",
            " batch_normalization (BatchN  (None, 254, 254, 32)     128       \n",
            " ormalization)                                                   \n",
            "                                                                 \n",
            " max_pooling2d (MaxPooling2D  (None, 127, 127, 32)     0         \n",
            " )                                                               \n",
            "                                                                 \n",
            " dropout (Dropout)           (None, 127, 127, 32)      0         \n",
            "                                                                 \n",
            " conv2d_1 (Conv2D)           (None, 125, 125, 64)      18496     \n",
            "                                                                 \n",
            " batch_normalization_1 (Batc  (None, 125, 125, 64)     256       \n",
            " hNormalization)                                                 \n",
            "                                                                 \n",
            " max_pooling2d_1 (MaxPooling  (None, 62, 62, 64)       0         \n",
            " 2D)                                                             \n",
            "                                                                 \n",
            " dropout_1 (Dropout)         (None, 62, 62, 64)        0         \n",
            "                                                                 \n",
            " conv2d_2 (Conv2D)           (None, 60, 60, 128)       73856     \n",
            "                                                                 \n",
            " batch_normalization_2 (Batc  (None, 60, 60, 128)      512       \n",
            " hNormalization)                                                 \n",
            "                                                                 \n",
            " max_pooling2d_2 (MaxPooling  (None, 30, 30, 128)      0         \n",
            " 2D)                                                             \n",
            "                                                                 \n",
            " dropout_2 (Dropout)         (None, 30, 30, 128)       0         \n",
            "                                                                 \n",
            " flatten (Flatten)           (None, 115200)            0         \n",
            "                                                                 \n",
            " dense (Dense)               (None, 512)               58982912  \n",
            "                                                                 \n",
            " batch_normalization_3 (Batc  (None, 512)              2048      \n",
            " hNormalization)                                                 \n",
            "                                                                 \n",
            " dropout_3 (Dropout)         (None, 512)               0         \n",
            "                                                                 \n",
            " dense_1 (Dense)             (None, 2)                 1026      \n",
            "                                                                 \n",
            "=================================================================\n",
            "Total params: 59,080,130\n",
            "Trainable params: 59,078,658\n",
            "Non-trainable params: 1,472\n",
            "_________________________________________________________________\n"
          ]
        }
      ],
      "source": [
        "from keras.models import Sequential\n",
        "from keras.layers import Conv2D, MaxPooling2D, Dropout, Flatten, Dense, Activation, BatchNormalization\n",
        "\n",
        "model = Sequential()\n",
        "\n",
        "model.add(Conv2D(32, (3, 3), activation='relu', input_shape=(256, 256, 3)))\n",
        "model.add(BatchNormalization())\n",
        "model.add(MaxPooling2D(pool_size=(2, 2)))\n",
        "model.add(Dropout(0.25))\n",
        "\n",
        "model.add(Conv2D(64, (3, 3), activation='relu'))\n",
        "model.add(BatchNormalization())\n",
        "model.add(MaxPooling2D(pool_size=(2, 2)))\n",
        "model.add(Dropout(0.25))\n",
        "\n",
        "model.add(Conv2D(128, (3, 3), activation='relu'))\n",
        "model.add(BatchNormalization())\n",
        "model.add(MaxPooling2D(pool_size=(2, 2)))\n",
        "model.add(Dropout(0.25))\n",
        "\n",
        "model.add(Flatten())\n",
        "model.add(Dense(512, activation='relu'))\n",
        "model.add(BatchNormalization())\n",
        "model.add(Dropout(0.5))\n",
        "model.add(Dense(2, activation='softmax'))\n",
        "\n",
        "model.compile(loss='binary_crossentropy', optimizer='adam', metrics=['accuracy'])\n",
        "\n",
        "model.summary()"
      ]
    },
    {
      "cell_type": "code",
      "execution_count": null,
      "metadata": {
        "id": "vgYCmi3V5wmg"
      },
      "outputs": [],
      "source": [
        "total_train = train_df.shape[0]\n",
        "total_validate = validate_df.shape[0]\n",
        "batch_size=100"
      ]
    },
    {
      "cell_type": "code",
      "execution_count": null,
      "metadata": {
        "colab": {
          "base_uri": "https://localhost:8080/"
        },
        "id": "OJ3plnErKFqP",
        "outputId": "6559a6e7-dc1e-455d-9626-66abbe38bda6"
      },
      "outputs": [
        {
          "output_type": "stream",
          "name": "stderr",
          "text": [
            "/usr/local/lib/python3.7/dist-packages/ipykernel_launcher.py:6: UserWarning: `Model.fit_generator` is deprecated and will be removed in a future version. Please use `Model.fit`, which supports generators.\n",
            "  \n"
          ]
        },
        {
          "output_type": "stream",
          "name": "stdout",
          "text": [
            "Epoch 1/150\n",
            "14/14 [==============================] - 24s 2s/step - loss: 0.0552 - accuracy: 0.9782 - val_loss: 1.3805 - val_accuracy: 0.6333\n",
            "Epoch 2/150\n",
            "14/14 [==============================] - 24s 2s/step - loss: 0.0436 - accuracy: 0.9850 - val_loss: 0.8197 - val_accuracy: 0.7167\n",
            "Epoch 3/150\n",
            "14/14 [==============================] - 22s 2s/step - loss: 0.0495 - accuracy: 0.9865 - val_loss: 1.1543 - val_accuracy: 0.6600\n",
            "Epoch 4/150\n",
            "14/14 [==============================] - 29s 2s/step - loss: 0.0488 - accuracy: 0.9850 - val_loss: 0.6843 - val_accuracy: 0.7800\n",
            "Epoch 5/150\n",
            "14/14 [==============================] - 23s 2s/step - loss: 0.0388 - accuracy: 0.9872 - val_loss: 1.0529 - val_accuracy: 0.7133\n",
            "Epoch 6/150\n",
            "14/14 [==============================] - 23s 2s/step - loss: 0.0413 - accuracy: 0.9872 - val_loss: 0.3661 - val_accuracy: 0.8667\n",
            "Epoch 7/150\n",
            "14/14 [==============================] - 24s 2s/step - loss: 0.0529 - accuracy: 0.9827 - val_loss: 0.7474 - val_accuracy: 0.7700\n",
            "Epoch 8/150\n",
            "14/14 [==============================] - 22s 2s/step - loss: 0.0524 - accuracy: 0.9805 - val_loss: 0.7993 - val_accuracy: 0.8067\n",
            "Epoch 9/150\n",
            "14/14 [==============================] - 22s 2s/step - loss: 0.0505 - accuracy: 0.9820 - val_loss: 0.1606 - val_accuracy: 0.9467\n",
            "Epoch 10/150\n",
            "14/14 [==============================] - 23s 2s/step - loss: 0.0630 - accuracy: 0.9752 - val_loss: 0.1914 - val_accuracy: 0.9367\n",
            "Epoch 11/150\n",
            "14/14 [==============================] - 23s 2s/step - loss: 0.0507 - accuracy: 0.9820 - val_loss: 0.1622 - val_accuracy: 0.9500\n",
            "Epoch 12/150\n",
            "14/14 [==============================] - 23s 2s/step - loss: 0.0456 - accuracy: 0.9835 - val_loss: 0.1283 - val_accuracy: 0.9667\n",
            "Epoch 13/150\n",
            "14/14 [==============================] - 22s 2s/step - loss: 0.0419 - accuracy: 0.9850 - val_loss: 0.0994 - val_accuracy: 0.9633\n",
            "Epoch 14/150\n",
            "14/14 [==============================] - 24s 2s/step - loss: 0.0373 - accuracy: 0.9842 - val_loss: 0.2463 - val_accuracy: 0.9100\n",
            "Epoch 15/150\n",
            "14/14 [==============================] - 23s 2s/step - loss: 0.0343 - accuracy: 0.9842 - val_loss: 0.1323 - val_accuracy: 0.9600\n",
            "Epoch 16/150\n",
            "14/14 [==============================] - 23s 2s/step - loss: 0.0279 - accuracy: 0.9910 - val_loss: 0.2847 - val_accuracy: 0.9033\n",
            "Epoch 17/150\n",
            "14/14 [==============================] - 23s 2s/step - loss: 0.0469 - accuracy: 0.9850 - val_loss: 0.2659 - val_accuracy: 0.9067\n",
            "Epoch 18/150\n",
            "14/14 [==============================] - 23s 2s/step - loss: 0.0354 - accuracy: 0.9857 - val_loss: 0.2798 - val_accuracy: 0.9033\n",
            "Epoch 19/150\n",
            "14/14 [==============================] - 23s 2s/step - loss: 0.0474 - accuracy: 0.9835 - val_loss: 0.1250 - val_accuracy: 0.9600\n",
            "Epoch 20/150\n",
            "14/14 [==============================] - 23s 2s/step - loss: 0.0349 - accuracy: 0.9902 - val_loss: 0.1528 - val_accuracy: 0.9533\n",
            "Epoch 21/150\n",
            "14/14 [==============================] - 23s 2s/step - loss: 0.0341 - accuracy: 0.9872 - val_loss: 0.1208 - val_accuracy: 0.9600\n",
            "Epoch 22/150\n",
            "14/14 [==============================] - 25s 2s/step - loss: 0.0420 - accuracy: 0.9820 - val_loss: 0.0924 - val_accuracy: 0.9733\n",
            "Epoch 23/150\n",
            "14/14 [==============================] - 23s 2s/step - loss: 0.0471 - accuracy: 0.9827 - val_loss: 0.1548 - val_accuracy: 0.9433\n",
            "Epoch 24/150\n",
            "14/14 [==============================] - 23s 2s/step - loss: 0.0227 - accuracy: 0.9910 - val_loss: 0.1076 - val_accuracy: 0.9767\n",
            "Epoch 25/150\n",
            "14/14 [==============================] - 23s 2s/step - loss: 0.0272 - accuracy: 0.9917 - val_loss: 0.1661 - val_accuracy: 0.9400\n",
            "Epoch 26/150\n",
            "14/14 [==============================] - 23s 2s/step - loss: 0.0299 - accuracy: 0.9910 - val_loss: 0.1736 - val_accuracy: 0.9567\n",
            "Epoch 27/150\n",
            "14/14 [==============================] - 22s 2s/step - loss: 0.0368 - accuracy: 0.9842 - val_loss: 0.0937 - val_accuracy: 0.9733\n",
            "Epoch 28/150\n",
            "14/14 [==============================] - 22s 2s/step - loss: 0.0235 - accuracy: 0.9925 - val_loss: 0.1492 - val_accuracy: 0.9333\n",
            "Epoch 29/150\n",
            "14/14 [==============================] - 23s 2s/step - loss: 0.0294 - accuracy: 0.9932 - val_loss: 0.0990 - val_accuracy: 0.9800\n",
            "Epoch 30/150\n",
            "14/14 [==============================] - 23s 2s/step - loss: 0.0263 - accuracy: 0.9893 - val_loss: 0.1646 - val_accuracy: 0.9567\n",
            "Epoch 31/150\n",
            "14/14 [==============================] - 23s 2s/step - loss: 0.0294 - accuracy: 0.9887 - val_loss: 0.2769 - val_accuracy: 0.9367\n",
            "Epoch 32/150\n",
            "14/14 [==============================] - 23s 2s/step - loss: 0.0342 - accuracy: 0.9902 - val_loss: 0.0850 - val_accuracy: 0.9733\n",
            "Epoch 33/150\n",
            "14/14 [==============================] - 24s 2s/step - loss: 0.0402 - accuracy: 0.9843 - val_loss: 0.1062 - val_accuracy: 0.9667\n",
            "Epoch 34/150\n",
            "14/14 [==============================] - 23s 2s/step - loss: 0.0282 - accuracy: 0.9895 - val_loss: 0.0506 - val_accuracy: 0.9800\n",
            "Epoch 35/150\n",
            "14/14 [==============================] - 23s 2s/step - loss: 0.0341 - accuracy: 0.9879 - val_loss: 0.1426 - val_accuracy: 0.9633\n",
            "Epoch 36/150\n",
            "14/14 [==============================] - 22s 2s/step - loss: 0.0322 - accuracy: 0.9902 - val_loss: 0.1230 - val_accuracy: 0.9567\n",
            "Epoch 37/150\n",
            "14/14 [==============================] - 23s 2s/step - loss: 0.0286 - accuracy: 0.9902 - val_loss: 0.1411 - val_accuracy: 0.9600\n",
            "Epoch 38/150\n",
            "14/14 [==============================] - 23s 2s/step - loss: 0.0270 - accuracy: 0.9910 - val_loss: 0.0849 - val_accuracy: 0.9767\n",
            "Epoch 39/150\n",
            "14/14 [==============================] - 22s 2s/step - loss: 0.0184 - accuracy: 0.9962 - val_loss: 0.0922 - val_accuracy: 0.9600\n",
            "Epoch 40/150\n",
            "14/14 [==============================] - 22s 2s/step - loss: 0.0198 - accuracy: 0.9932 - val_loss: 0.0722 - val_accuracy: 0.9900\n",
            "Epoch 41/150\n",
            "14/14 [==============================] - 23s 2s/step - loss: 0.0151 - accuracy: 0.9962 - val_loss: 0.0876 - val_accuracy: 0.9700\n",
            "Epoch 42/150\n",
            "14/14 [==============================] - 22s 2s/step - loss: 0.0287 - accuracy: 0.9902 - val_loss: 0.0862 - val_accuracy: 0.9800\n",
            "Epoch 43/150\n",
            "14/14 [==============================] - 22s 2s/step - loss: 0.0433 - accuracy: 0.9857 - val_loss: 1.2250 - val_accuracy: 0.7833\n",
            "Epoch 44/150\n",
            "14/14 [==============================] - 22s 2s/step - loss: 0.0486 - accuracy: 0.9820 - val_loss: 0.1468 - val_accuracy: 0.9567\n",
            "Epoch 45/150\n",
            "14/14 [==============================] - 22s 2s/step - loss: 0.0222 - accuracy: 0.9955 - val_loss: 0.1696 - val_accuracy: 0.9400\n",
            "Epoch 46/150\n",
            "14/14 [==============================] - 22s 2s/step - loss: 0.0178 - accuracy: 0.9932 - val_loss: 0.0852 - val_accuracy: 0.9700\n",
            "Epoch 47/150\n",
            "14/14 [==============================] - 23s 2s/step - loss: 0.0226 - accuracy: 0.9940 - val_loss: 0.0950 - val_accuracy: 0.9733\n",
            "Epoch 48/150\n",
            "14/14 [==============================] - 22s 2s/step - loss: 0.0219 - accuracy: 0.9925 - val_loss: 0.0770 - val_accuracy: 0.9833\n",
            "Epoch 49/150\n",
            "14/14 [==============================] - 22s 2s/step - loss: 0.0257 - accuracy: 0.9925 - val_loss: 0.1649 - val_accuracy: 0.9333\n",
            "Epoch 50/150\n",
            "14/14 [==============================] - 22s 2s/step - loss: 0.0227 - accuracy: 0.9932 - val_loss: 0.1141 - val_accuracy: 0.9800\n",
            "Epoch 51/150\n",
            "14/14 [==============================] - 22s 2s/step - loss: 0.0284 - accuracy: 0.9887 - val_loss: 0.0792 - val_accuracy: 0.9667\n",
            "Epoch 52/150\n",
            "14/14 [==============================] - 24s 2s/step - loss: 0.0308 - accuracy: 0.9887 - val_loss: 0.0733 - val_accuracy: 0.9800\n",
            "Epoch 53/150\n",
            "14/14 [==============================] - 23s 2s/step - loss: 0.0322 - accuracy: 0.9910 - val_loss: 0.1250 - val_accuracy: 0.9700\n",
            "Epoch 54/150\n",
            "14/14 [==============================] - 23s 2s/step - loss: 0.0206 - accuracy: 0.9910 - val_loss: 0.0883 - val_accuracy: 0.9667\n",
            "Epoch 55/150\n",
            "14/14 [==============================] - 23s 2s/step - loss: 0.0162 - accuracy: 0.9940 - val_loss: 0.0968 - val_accuracy: 0.9733\n",
            "Epoch 56/150\n",
            "14/14 [==============================] - 23s 2s/step - loss: 0.0216 - accuracy: 0.9917 - val_loss: 0.0680 - val_accuracy: 0.9733\n",
            "Epoch 57/150\n",
            "14/14 [==============================] - 23s 2s/step - loss: 0.0207 - accuracy: 0.9902 - val_loss: 0.1274 - val_accuracy: 0.9667\n",
            "Epoch 58/150\n",
            "14/14 [==============================] - 23s 2s/step - loss: 0.0226 - accuracy: 0.9910 - val_loss: 0.1371 - val_accuracy: 0.9667\n",
            "Epoch 59/150\n",
            "14/14 [==============================] - 24s 2s/step - loss: 0.0220 - accuracy: 0.9910 - val_loss: 0.1621 - val_accuracy: 0.9567\n",
            "Epoch 60/150\n",
            "14/14 [==============================] - 22s 2s/step - loss: 0.0197 - accuracy: 0.9917 - val_loss: 0.0899 - val_accuracy: 0.9733\n",
            "Epoch 61/150\n",
            "14/14 [==============================] - 24s 2s/step - loss: 0.0161 - accuracy: 0.9943 - val_loss: 0.1471 - val_accuracy: 0.9567\n",
            "Epoch 62/150\n",
            "14/14 [==============================] - 23s 2s/step - loss: 0.0204 - accuracy: 0.9940 - val_loss: 0.1190 - val_accuracy: 0.9633\n",
            "Epoch 63/150\n",
            "14/14 [==============================] - 22s 2s/step - loss: 0.0288 - accuracy: 0.9925 - val_loss: 0.0969 - val_accuracy: 0.9867\n",
            "Epoch 64/150\n",
            "14/14 [==============================] - 23s 2s/step - loss: 0.0314 - accuracy: 0.9827 - val_loss: 0.1377 - val_accuracy: 0.9633\n",
            "Epoch 65/150\n",
            "14/14 [==============================] - 22s 2s/step - loss: 0.0267 - accuracy: 0.9895 - val_loss: 0.1331 - val_accuracy: 0.9700\n",
            "Epoch 66/150\n",
            "14/14 [==============================] - 23s 2s/step - loss: 0.0201 - accuracy: 0.9940 - val_loss: 0.1891 - val_accuracy: 0.9667\n",
            "Epoch 67/150\n",
            "14/14 [==============================] - 23s 2s/step - loss: 0.0187 - accuracy: 0.9917 - val_loss: 0.3247 - val_accuracy: 0.9067\n",
            "Epoch 68/150\n",
            "14/14 [==============================] - 23s 2s/step - loss: 0.0140 - accuracy: 0.9940 - val_loss: 0.2122 - val_accuracy: 0.9300\n",
            "Epoch 69/150\n",
            "14/14 [==============================] - 24s 2s/step - loss: 0.0168 - accuracy: 0.9940 - val_loss: 0.1122 - val_accuracy: 0.9800\n",
            "Epoch 70/150\n",
            "14/14 [==============================] - 23s 2s/step - loss: 0.0185 - accuracy: 0.9932 - val_loss: 0.0918 - val_accuracy: 0.9800\n",
            "Epoch 71/150\n",
            "14/14 [==============================] - 23s 2s/step - loss: 0.0138 - accuracy: 0.9962 - val_loss: 0.0713 - val_accuracy: 0.9800\n",
            "Epoch 72/150\n",
            "14/14 [==============================] - 23s 2s/step - loss: 0.0163 - accuracy: 0.9940 - val_loss: 0.1004 - val_accuracy: 0.9633\n",
            "Epoch 73/150\n",
            "14/14 [==============================] - 23s 2s/step - loss: 0.0161 - accuracy: 0.9940 - val_loss: 0.1315 - val_accuracy: 0.9433\n",
            "Epoch 74/150\n",
            "14/14 [==============================] - 23s 2s/step - loss: 0.0160 - accuracy: 0.9977 - val_loss: 0.0690 - val_accuracy: 0.9867\n",
            "Epoch 75/150\n",
            "14/14 [==============================] - 23s 2s/step - loss: 0.0111 - accuracy: 0.9977 - val_loss: 0.0623 - val_accuracy: 0.9833\n",
            "Epoch 76/150\n",
            "14/14 [==============================] - 23s 2s/step - loss: 0.0109 - accuracy: 0.9962 - val_loss: 0.2332 - val_accuracy: 0.9333\n",
            "Epoch 77/150\n",
            "14/14 [==============================] - 23s 2s/step - loss: 0.0129 - accuracy: 0.9955 - val_loss: 0.1302 - val_accuracy: 0.9567\n",
            "Epoch 78/150\n",
            "14/14 [==============================] - 23s 2s/step - loss: 0.0127 - accuracy: 0.9955 - val_loss: 0.1193 - val_accuracy: 0.9533\n",
            "Epoch 79/150\n",
            "14/14 [==============================] - 23s 2s/step - loss: 0.0227 - accuracy: 0.9940 - val_loss: 0.1189 - val_accuracy: 0.9800\n",
            "Epoch 80/150\n",
            "14/14 [==============================] - 22s 2s/step - loss: 0.0178 - accuracy: 0.9925 - val_loss: 0.1629 - val_accuracy: 0.9600\n",
            "Epoch 81/150\n",
            "14/14 [==============================] - 22s 2s/step - loss: 0.0106 - accuracy: 0.9970 - val_loss: 0.1008 - val_accuracy: 0.9567\n",
            "Epoch 82/150\n",
            "14/14 [==============================] - 22s 2s/step - loss: 0.0116 - accuracy: 0.9962 - val_loss: 0.0488 - val_accuracy: 0.9900\n",
            "Epoch 83/150\n",
            "14/14 [==============================] - 23s 2s/step - loss: 0.0183 - accuracy: 0.9932 - val_loss: 0.0772 - val_accuracy: 0.9733\n",
            "Epoch 84/150\n",
            "14/14 [==============================] - 24s 2s/step - loss: 0.0162 - accuracy: 0.9955 - val_loss: 0.0296 - val_accuracy: 0.9900\n"
          ]
        }
      ],
      "source": [
        "history = model.fit_generator(\n",
        "    train_generator, \n",
        "    epochs=150,\n",
        "    validation_data=validation_generator,\n",
        "    validation_steps=total_validate//batch_size,\n",
        "    steps_per_epoch=total_train//batch_size\n",
        ")"
      ]
    },
    {
      "cell_type": "code",
      "execution_count": null,
      "metadata": {
        "id": "rgHsXGww5n7_"
      },
      "outputs": [],
      "source": [
        "model.save_weights(path+\"model.h5\")"
      ]
    },
    {
      "cell_type": "code",
      "execution_count": null,
      "metadata": {
        "id": "vaNLL8k472k0"
      },
      "outputs": [],
      "source": [
        "path = \"/content/drive/MyDrive/forest_fire/testing\"\n",
        "\n",
        "file_o = os.listdir(path+\"/fire\")\n",
        "\n",
        "for fil in file_o:\n",
        "    a = cv2.imread(path+\"/fire/\"+fil)\n",
        "    resized = cv2.resize(a, (256,256))\n",
        "    cv2.imwrite(path+\"/data/\"+\"fire.\"+fil, resized)"
      ]
    },
    {
      "cell_type": "code",
      "execution_count": null,
      "metadata": {
        "id": "iJybaMIs9b1n"
      },
      "outputs": [],
      "source": [
        "file_o = os.listdir(path+\"/nofire\")\n",
        "\n",
        "for fil in file_o:\n",
        "    a = cv2.imread(path+\"/nofire/\"+fil)\n",
        "    resized = cv2.resize(a, (256,256))\n",
        "    cv2.imwrite(path+\"/data/\"+\"nofire.\"+fil, resized)"
      ]
    },
    {
      "cell_type": "code",
      "execution_count": null,
      "metadata": {
        "id": "y2_HEcPU7UbD"
      },
      "outputs": [],
      "source": [
        "filenames = os.listdir(path+\"/data\")\n",
        "categories = []\n",
        "for filename in filenames:\n",
        "    category = filename.split('.')[0]\n",
        "    if category == 'fire':\n",
        "        categories.append(1)\n",
        "    else:\n",
        "        categories.append(0)\n",
        "\n",
        "test_df = pd.DataFrame({\n",
        "    'filename': filenames,\n",
        "    'category': categories\n",
        "})\n",
        "\n",
        "nb_samples = test_df.shape[0]"
      ]
    },
    {
      "cell_type": "code",
      "execution_count": null,
      "metadata": {
        "id": "ab7e2YuA9utK",
        "colab": {
          "base_uri": "https://localhost:8080/"
        },
        "outputId": "c59ae3da-fef8-46e0-bf17-41cbd029f99a"
      },
      "outputs": [
        {
          "output_type": "stream",
          "name": "stdout",
          "text": [
            "Found 68 validated image filenames.\n"
          ]
        }
      ],
      "source": [
        "test_gen = ImageDataGenerator(rescale=1./255)\n",
        "test_generator = test_gen.flow_from_dataframe(\n",
        "    test_df, \n",
        "    path+\"/data\", \n",
        "    x_col='filename',\n",
        "    y_col=None,\n",
        "    class_mode=None,\n",
        "    target_size=(256,256),\n",
        "    batch_size=batch_size,\n",
        "    shuffle=False\n",
        ")"
      ]
    },
    {
      "cell_type": "code",
      "execution_count": null,
      "metadata": {
        "id": "6k_MXtSI-bTM",
        "colab": {
          "base_uri": "https://localhost:8080/"
        },
        "outputId": "7398ad1c-0ffa-46b0-b73e-289b87b92e5f"
      },
      "outputs": [
        {
          "output_type": "stream",
          "name": "stderr",
          "text": [
            "/usr/local/lib/python3.7/dist-packages/ipykernel_launcher.py:1: UserWarning: `Model.predict_generator` is deprecated and will be removed in a future version. Please use `Model.predict`, which supports generators.\n",
            "  \"\"\"Entry point for launching an IPython kernel.\n"
          ]
        }
      ],
      "source": [
        "predict = model.predict_generator(test_generator, steps=np.ceil(nb_samples/batch_size))"
      ]
    },
    {
      "cell_type": "code",
      "execution_count": null,
      "metadata": {
        "id": "njsIYBFa-dWm"
      },
      "outputs": [],
      "source": [
        "test_df['predict'] = np.argmax(predict, axis=-1)"
      ]
    },
    {
      "cell_type": "code",
      "execution_count": null,
      "metadata": {
        "id": "PopYNHNB-fXG"
      },
      "outputs": [],
      "source": [
        "label_map = dict((v,k) for k,v in train_generator.class_indices.items())\n",
        "test_df['predict'] = test_df['predict'].replace(label_map)"
      ]
    },
    {
      "cell_type": "code",
      "execution_count": null,
      "metadata": {
        "id": "ncztr5wk-mpI"
      },
      "outputs": [],
      "source": [
        "test_df['predict'] = test_df['predict'].replace({ 'fire': 1, 'nofire': 0 })"
      ]
    },
    {
      "cell_type": "code",
      "source": [
        "test_df.head()"
      ],
      "metadata": {
        "colab": {
          "base_uri": "https://localhost:8080/",
          "height": 206
        },
        "id": "V9WSWpPrASQV",
        "outputId": "6168c8d9-faa6-4c66-9220-783594c958de"
      },
      "execution_count": null,
      "outputs": [
        {
          "output_type": "execute_result",
          "data": {
            "text/plain": [
              "          filename  category  predict\n",
              "0  fire.abc175.jpg         1        1\n",
              "1  fire.abc172.jpg         1        1\n",
              "2  fire.abc173.jpg         1        1\n",
              "3  fire.abc169.jpg         1        1\n",
              "4  fire.abc171.jpg         1        1"
            ],
            "text/html": [
              "\n",
              "  <div id=\"df-4923a6b3-e32c-4322-9b18-5dac7f17fe1d\">\n",
              "    <div class=\"colab-df-container\">\n",
              "      <div>\n",
              "<style scoped>\n",
              "    .dataframe tbody tr th:only-of-type {\n",
              "        vertical-align: middle;\n",
              "    }\n",
              "\n",
              "    .dataframe tbody tr th {\n",
              "        vertical-align: top;\n",
              "    }\n",
              "\n",
              "    .dataframe thead th {\n",
              "        text-align: right;\n",
              "    }\n",
              "</style>\n",
              "<table border=\"1\" class=\"dataframe\">\n",
              "  <thead>\n",
              "    <tr style=\"text-align: right;\">\n",
              "      <th></th>\n",
              "      <th>filename</th>\n",
              "      <th>category</th>\n",
              "      <th>predict</th>\n",
              "    </tr>\n",
              "  </thead>\n",
              "  <tbody>\n",
              "    <tr>\n",
              "      <th>0</th>\n",
              "      <td>fire.abc175.jpg</td>\n",
              "      <td>1</td>\n",
              "      <td>1</td>\n",
              "    </tr>\n",
              "    <tr>\n",
              "      <th>1</th>\n",
              "      <td>fire.abc172.jpg</td>\n",
              "      <td>1</td>\n",
              "      <td>1</td>\n",
              "    </tr>\n",
              "    <tr>\n",
              "      <th>2</th>\n",
              "      <td>fire.abc173.jpg</td>\n",
              "      <td>1</td>\n",
              "      <td>1</td>\n",
              "    </tr>\n",
              "    <tr>\n",
              "      <th>3</th>\n",
              "      <td>fire.abc169.jpg</td>\n",
              "      <td>1</td>\n",
              "      <td>1</td>\n",
              "    </tr>\n",
              "    <tr>\n",
              "      <th>4</th>\n",
              "      <td>fire.abc171.jpg</td>\n",
              "      <td>1</td>\n",
              "      <td>1</td>\n",
              "    </tr>\n",
              "  </tbody>\n",
              "</table>\n",
              "</div>\n",
              "      <button class=\"colab-df-convert\" onclick=\"convertToInteractive('df-4923a6b3-e32c-4322-9b18-5dac7f17fe1d')\"\n",
              "              title=\"Convert this dataframe to an interactive table.\"\n",
              "              style=\"display:none;\">\n",
              "        \n",
              "  <svg xmlns=\"http://www.w3.org/2000/svg\" height=\"24px\"viewBox=\"0 0 24 24\"\n",
              "       width=\"24px\">\n",
              "    <path d=\"M0 0h24v24H0V0z\" fill=\"none\"/>\n",
              "    <path d=\"M18.56 5.44l.94 2.06.94-2.06 2.06-.94-2.06-.94-.94-2.06-.94 2.06-2.06.94zm-11 1L8.5 8.5l.94-2.06 2.06-.94-2.06-.94L8.5 2.5l-.94 2.06-2.06.94zm10 10l.94 2.06.94-2.06 2.06-.94-2.06-.94-.94-2.06-.94 2.06-2.06.94z\"/><path d=\"M17.41 7.96l-1.37-1.37c-.4-.4-.92-.59-1.43-.59-.52 0-1.04.2-1.43.59L10.3 9.45l-7.72 7.72c-.78.78-.78 2.05 0 2.83L4 21.41c.39.39.9.59 1.41.59.51 0 1.02-.2 1.41-.59l7.78-7.78 2.81-2.81c.8-.78.8-2.07 0-2.86zM5.41 20L4 18.59l7.72-7.72 1.47 1.35L5.41 20z\"/>\n",
              "  </svg>\n",
              "      </button>\n",
              "      \n",
              "  <style>\n",
              "    .colab-df-container {\n",
              "      display:flex;\n",
              "      flex-wrap:wrap;\n",
              "      gap: 12px;\n",
              "    }\n",
              "\n",
              "    .colab-df-convert {\n",
              "      background-color: #E8F0FE;\n",
              "      border: none;\n",
              "      border-radius: 50%;\n",
              "      cursor: pointer;\n",
              "      display: none;\n",
              "      fill: #1967D2;\n",
              "      height: 32px;\n",
              "      padding: 0 0 0 0;\n",
              "      width: 32px;\n",
              "    }\n",
              "\n",
              "    .colab-df-convert:hover {\n",
              "      background-color: #E2EBFA;\n",
              "      box-shadow: 0px 1px 2px rgba(60, 64, 67, 0.3), 0px 1px 3px 1px rgba(60, 64, 67, 0.15);\n",
              "      fill: #174EA6;\n",
              "    }\n",
              "\n",
              "    [theme=dark] .colab-df-convert {\n",
              "      background-color: #3B4455;\n",
              "      fill: #D2E3FC;\n",
              "    }\n",
              "\n",
              "    [theme=dark] .colab-df-convert:hover {\n",
              "      background-color: #434B5C;\n",
              "      box-shadow: 0px 1px 3px 1px rgba(0, 0, 0, 0.15);\n",
              "      filter: drop-shadow(0px 1px 2px rgba(0, 0, 0, 0.3));\n",
              "      fill: #FFFFFF;\n",
              "    }\n",
              "  </style>\n",
              "\n",
              "      <script>\n",
              "        const buttonEl =\n",
              "          document.querySelector('#df-4923a6b3-e32c-4322-9b18-5dac7f17fe1d button.colab-df-convert');\n",
              "        buttonEl.style.display =\n",
              "          google.colab.kernel.accessAllowed ? 'block' : 'none';\n",
              "\n",
              "        async function convertToInteractive(key) {\n",
              "          const element = document.querySelector('#df-4923a6b3-e32c-4322-9b18-5dac7f17fe1d');\n",
              "          const dataTable =\n",
              "            await google.colab.kernel.invokeFunction('convertToInteractive',\n",
              "                                                     [key], {});\n",
              "          if (!dataTable) return;\n",
              "\n",
              "          const docLinkHtml = 'Like what you see? Visit the ' +\n",
              "            '<a target=\"_blank\" href=https://colab.research.google.com/notebooks/data_table.ipynb>data table notebook</a>'\n",
              "            + ' to learn more about interactive tables.';\n",
              "          element.innerHTML = '';\n",
              "          dataTable['output_type'] = 'display_data';\n",
              "          await google.colab.output.renderOutput(dataTable, element);\n",
              "          const docLink = document.createElement('div');\n",
              "          docLink.innerHTML = docLinkHtml;\n",
              "          element.appendChild(docLink);\n",
              "        }\n",
              "      </script>\n",
              "    </div>\n",
              "  </div>\n",
              "  "
            ]
          },
          "metadata": {},
          "execution_count": 40
        }
      ]
    },
    {
      "cell_type": "code",
      "source": [
        "y_true = test_df['category'].values\n",
        "y_pred = test_df['predict'].values"
      ],
      "metadata": {
        "id": "40lI6etnAV9Y"
      },
      "execution_count": null,
      "outputs": []
    },
    {
      "cell_type": "code",
      "source": [
        "from sklearn.metrics import accuracy_score\n",
        "accuracy_score(y_true, y_pred)"
      ],
      "metadata": {
        "colab": {
          "base_uri": "https://localhost:8080/"
        },
        "id": "c4L9J-66Aied",
        "outputId": "30a9b118-3c9e-4e65-a33e-d0592d864a27"
      },
      "execution_count": null,
      "outputs": [
        {
          "output_type": "stream",
          "name": "stdout",
          "text": [
            "0.953529411647058\n"
          ]
        }
      ]
    },
    {
      "cell_type": "markdown",
      "source": [
        "# Inception - GoogleNet"
      ],
      "metadata": {
        "id": "aPXHiDKrScla"
      }
    },
    {
      "cell_type": "code",
      "source": [
        "from keras.models import Model\n",
        "from keras.layers import Input\n",
        "from keras.layers import Conv2D\n",
        "from keras.layers import MaxPooling2D, Dense\n",
        "from keras.layers.merge import concatenate"
      ],
      "metadata": {
        "id": "EUZWoDDVO-ct"
      },
      "execution_count": null,
      "outputs": []
    },
    {
      "cell_type": "code",
      "source": [
        "def inception_module(layer_in, f1, f2_in, f2_out, f3_in, f3_out, f4_out):\n",
        "    # 1x1 conv\n",
        "    conv1 = Conv2D(f1, (1,1), padding='same', activation='relu')(layer_in)\n",
        "    \n",
        "    # 3x3 conv\n",
        "    conv3 = Conv2D(f2_in, (1,1), padding='same', activation='relu')(layer_in)\n",
        "    conv3 = Conv2D(f2_out, (3,3), padding='same', activation='relu')(conv3)\n",
        "    \n",
        "    # 5x5 conv\n",
        "    conv5 = Conv2D(f3_in, (1,1), padding='same', activation='relu')(layer_in)\n",
        "    conv5 = Conv2D(f3_out, (5,5), padding='same', activation='relu')(conv5)\n",
        "    \n",
        "    # 3x3 max pooling\n",
        "    pool = MaxPooling2D((3,3), strides=(1,1), padding='same')(layer_in)\n",
        "    pool = Conv2D(f4_out, (1,1), padding='same', activation='relu')(pool)\n",
        "    \n",
        "    dense = Dense(2, activation='softmax')(pool)\n",
        "    layer_out = concatenate([conv1, conv3, conv5, pool, dense], axis=-1)\n",
        "    \n",
        "    return layer_out\n",
        " \n",
        "\n",
        "visible = Input(shape=(256, 256, 3))\n",
        "\n",
        "layer = inception_module(visible, 64, 96, 128, 16, 32, 32)\n",
        "\n",
        "layer = inception_module(layer, 128, 128, 192, 32, 96, 64)\n",
        "\n",
        "model = Model(inputs=visible, outputs=layer)\n",
        "\n",
        "model.summary()"
      ],
      "metadata": {
        "colab": {
          "base_uri": "https://localhost:8080/"
        },
        "id": "HkhzMzr7PEZb",
        "outputId": "d0266893-a259-4613-db37-6716342a8c17"
      },
      "execution_count": null,
      "outputs": [
        {
          "output_type": "stream",
          "name": "stdout",
          "text": [
            "Model: \"model_2\"\n",
            "__________________________________________________________________________________________________\n",
            " Layer (type)                   Output Shape         Param #     Connected to                     \n",
            "==================================================================================================\n",
            " input_3 (InputLayer)           [(None, 256, 256, 3  0           []                               \n",
            "                                )]                                                                \n",
            "                                                                                                  \n",
            " max_pooling2d_4 (MaxPooling2D)  (None, 256, 256, 3)  0          ['input_3[0][0]']                \n",
            "                                                                                                  \n",
            " conv2d_25 (Conv2D)             (None, 256, 256, 96  384         ['input_3[0][0]']                \n",
            "                                )                                                                 \n",
            "                                                                                                  \n",
            " conv2d_27 (Conv2D)             (None, 256, 256, 16  64          ['input_3[0][0]']                \n",
            "                                )                                                                 \n",
            "                                                                                                  \n",
            " conv2d_29 (Conv2D)             (None, 256, 256, 32  128         ['max_pooling2d_4[0][0]']        \n",
            "                                )                                                                 \n",
            "                                                                                                  \n",
            " conv2d_24 (Conv2D)             (None, 256, 256, 64  256         ['input_3[0][0]']                \n",
            "                                )                                                                 \n",
            "                                                                                                  \n",
            " conv2d_26 (Conv2D)             (None, 256, 256, 12  110720      ['conv2d_25[0][0]']              \n",
            "                                8)                                                                \n",
            "                                                                                                  \n",
            " conv2d_28 (Conv2D)             (None, 256, 256, 32  12832       ['conv2d_27[0][0]']              \n",
            "                                )                                                                 \n",
            "                                                                                                  \n",
            " dense (Dense)                  (None, 256, 256, 2)  66          ['conv2d_29[0][0]']              \n",
            "                                                                                                  \n",
            " concatenate_4 (Concatenate)    (None, 256, 256, 25  0           ['conv2d_24[0][0]',              \n",
            "                                8)                                'conv2d_26[0][0]',              \n",
            "                                                                  'conv2d_28[0][0]',              \n",
            "                                                                  'conv2d_29[0][0]',              \n",
            "                                                                  'dense[0][0]']                  \n",
            "                                                                                                  \n",
            " max_pooling2d_5 (MaxPooling2D)  (None, 256, 256, 25  0          ['concatenate_4[0][0]']          \n",
            "                                8)                                                                \n",
            "                                                                                                  \n",
            " conv2d_31 (Conv2D)             (None, 256, 256, 12  33152       ['concatenate_4[0][0]']          \n",
            "                                8)                                                                \n",
            "                                                                                                  \n",
            " conv2d_33 (Conv2D)             (None, 256, 256, 32  8288        ['concatenate_4[0][0]']          \n",
            "                                )                                                                 \n",
            "                                                                                                  \n",
            " conv2d_35 (Conv2D)             (None, 256, 256, 64  16576       ['max_pooling2d_5[0][0]']        \n",
            "                                )                                                                 \n",
            "                                                                                                  \n",
            " conv2d_30 (Conv2D)             (None, 256, 256, 12  33152       ['concatenate_4[0][0]']          \n",
            "                                8)                                                                \n",
            "                                                                                                  \n",
            " conv2d_32 (Conv2D)             (None, 256, 256, 19  221376      ['conv2d_31[0][0]']              \n",
            "                                2)                                                                \n",
            "                                                                                                  \n",
            " conv2d_34 (Conv2D)             (None, 256, 256, 96  76896       ['conv2d_33[0][0]']              \n",
            "                                )                                                                 \n",
            "                                                                                                  \n",
            " dense_1 (Dense)                (None, 256, 256, 2)  130         ['conv2d_35[0][0]']              \n",
            "                                                                                                  \n",
            " concatenate_5 (Concatenate)    (None, 256, 256, 48  0           ['conv2d_30[0][0]',              \n",
            "                                2)                                'conv2d_32[0][0]',              \n",
            "                                                                  'conv2d_34[0][0]',              \n",
            "                                                                  'conv2d_35[0][0]',              \n",
            "                                                                  'dense_1[0][0]']                \n",
            "                                                                                                  \n",
            "==================================================================================================\n",
            "Total params: 514,020\n",
            "Trainable params: 514,020\n",
            "Non-trainable params: 0\n",
            "__________________________________________________________________________________________________\n"
          ]
        }
      ]
    },
    {
      "cell_type": "code",
      "source": [
        "model.compile(loss='binary_crossentropy', optimizer='adam', metrics=['accuracy'])"
      ],
      "metadata": {
        "id": "2fZ5J9dtPwqs"
      },
      "execution_count": null,
      "outputs": []
    },
    {
      "cell_type": "code",
      "source": [
        "history = model.fit_generator(\n",
        "    train_generator, \n",
        "    epochs=15,\n",
        "    validation_data=validation_generator,\n",
        "    validation_steps=total_validate//batch_size,\n",
        "    steps_per_epoch=total_train//batch_size\n",
        ")"
      ],
      "metadata": {
        "colab": {
          "base_uri": "https://localhost:8080/"
        },
        "id": "hg16xsK0RXeh",
        "outputId": "5aa7b5c7-27e4-4020-abe5-5366c873c7ae"
      },
      "execution_count": null,
      "outputs": [
        {
          "output_type": "stream",
          "name": "stdout",
          "text": [
            "/usr/local/lib/python3.7/dist-packages/ipykernel_launcher.py:6: UserWarning: `Model.fit_generator` is deprecated and will be removed in a future version. Please use `Model.fit`, which supports generators.\n",
            "  \n",
            "Epoch 1/150\n",
            "14/14 [==============================] - 24s 2s/step - loss: 0.0552 - accuracy: 0.9782 - val_loss: 1.3805 - val_accuracy: 0.6333\n",
            "Epoch 2/150\n",
            "14/14 [==============================] - 24s 2s/step - loss: 0.0436 - accuracy: 0.9850 - val_loss: 0.8197 - val_accuracy: 0.7167\n",
            "Epoch 3/150\n",
            "14/14 [==============================] - 22s 2s/step - loss: 0.0495 - accuracy: 0.9865 - val_loss: 1.1543 - val_accuracy: 0.6600\n",
            "Epoch 4/150\n",
            "14/14 [==============================] - 29s 2s/step - loss: 0.0488 - accuracy: 0.9850 - val_loss: 0.6843 - val_accuracy: 0.7800\n",
            "Epoch 5/150\n",
            "14/14 [==============================] - 23s 2s/step - loss: 0.0388 - accuracy: 0.9872 - val_loss: 1.0529 - val_accuracy: 0.7133\n",
            "Epoch 6/150\n",
            "14/14 [==============================] - 23s 2s/step - loss: 0.0413 - accuracy: 0.9872 - val_loss: 0.3661 - val_accuracy: 0.8667\n",
            "Epoch 7/150\n",
            "14/14 [==============================] - 24s 2s/step - loss: 0.0529 - accuracy: 0.9827 - val_loss: 0.7474 - val_accuracy: 0.7700\n",
            "Epoch 8/150\n",
            "14/14 [==============================] - 22s 2s/step - loss: 0.0524 - accuracy: 0.9805 - val_loss: 0.7993 - val_accuracy: 0.8067\n",
            "Epoch 9/150\n",
            "14/14 [==============================] - 22s 2s/step - loss: 0.0505 - accuracy: 0.9820 - val_loss: 0.1606 - val_accuracy: 0.9467\n",
            "Epoch 10/150\n",
            "14/14 [==============================] - 23s 2s/step - loss: 0.0630 - accuracy: 0.9752 - val_loss: 0.1914 - val_accuracy: 0.9367\n",
            "Epoch 11/150\n",
            "14/14 [==============================] - 23s 2s/step - loss: 0.0507 - accuracy: 0.9820 - val_loss: 0.1622 - val_accuracy: 0.9500\n",
            "Epoch 12/150\n",
            "14/14 [==============================] - 23s 2s/step - loss: 0.0456 - accuracy: 0.9835 - val_loss: 0.1283 - val_accuracy: 0.9667\n",
            "Epoch 13/150\n",
            "14/14 [==============================] - 22s 2s/step - loss: 0.0419 - accuracy: 0.9850 - val_loss: 0.0994 - val_accuracy: 0.9633\n",
            "Epoch 14/150\n",
            "14/14 [==============================] - 24s 2s/step - loss: 0.0373 - accuracy: 0.9842 - val_loss: 0.2463 - val_accuracy: 0.9100\n",
            "Epoch 15/150\n",
            "14/14 [==============================] - 23s 2s/step - loss: 0.0343 - accuracy: 0.9842 - val_loss: 0.1323 - val_accuracy: 0.9600\n",
            "Epoch 16/150\n",
            "14/14 [==============================] - 23s 2s/step - loss: 0.0279 - accuracy: 0.9910 - val_loss: 0.2847 - val_accuracy: 0.9033\n",
            "Epoch 17/150\n",
            "14/14 [==============================] - 23s 2s/step - loss: 0.0469 - accuracy: 0.9850 - val_loss: 0.2659 - val_accuracy: 0.9067\n",
            "Epoch 18/150\n",
            "14/14 [==============================] - 23s 2s/step - loss: 0.0354 - accuracy: 0.9857 - val_loss: 0.2798 - val_accuracy: 0.9033\n",
            "Epoch 19/150\n",
            "14/14 [==============================] - 23s 2s/step - loss: 0.0474 - accuracy: 0.9835 - val_loss: 0.1250 - val_accuracy: 0.9600\n",
            "Epoch 20/150\n",
            "14/14 [==============================] - 23s 2s/step - loss: 0.0349 - accuracy: 0.9902 - val_loss: 0.1528 - val_accuracy: 0.9533\n",
            "Epoch 21/150\n",
            "14/14 [==============================] - 23s 2s/step - loss: 0.0341 - accuracy: 0.9872 - val_loss: 0.1208 - val_accuracy: 0.9600\n",
            "Epoch 22/150\n",
            "14/14 [==============================] - 25s 2s/step - loss: 0.0420 - accuracy: 0.9820 - val_loss: 0.0924 - val_accuracy: 0.9733\n",
            "Epoch 23/150\n",
            "14/14 [==============================] - 23s 2s/step - loss: 0.0471 - accuracy: 0.9827 - val_loss: 0.1548 - val_accuracy: 0.9433\n",
            "Epoch 24/150\n",
            "14/14 [==============================] - 23s 2s/step - loss: 0.0227 - accuracy: 0.9910 - val_loss: 0.1076 - val_accuracy: 0.9767\n",
            "Epoch 25/150\n",
            "14/14 [==============================] - 23s 2s/step - loss: 0.0272 - accuracy: 0.9917 - val_loss: 0.1661 - val_accuracy: 0.9400\n"
          ]
        }
      ]
    },
    {
      "cell_type": "code",
      "source": [
        "predict = model.predict_generator(test_generator, steps=np.ceil(nb_samples/batch_size))"
      ],
      "metadata": {
        "id": "tcEMoMOeSNY6"
      },
      "execution_count": null,
      "outputs": []
    },
    {
      "cell_type": "code",
      "source": [
        "test_df['predict'] = test_df['predict'].replace({ 'fire': 1, 'nofire': 0 })\n",
        "test_df.head()"
      ],
      "metadata": {
        "colab": {
          "base_uri": "https://localhost:8080/",
          "height": 206
        },
        "outputId": "6168c8d9-faa6-4c66-9220-783594c958de",
        "id": "lT0vJyu2SRBi"
      },
      "execution_count": null,
      "outputs": [
        {
          "output_type": "execute_result",
          "data": {
            "text/plain": [
              "          filename  category  predict\n",
              "0  fire.abc175.jpg         1        1\n",
              "1  fire.abc172.jpg         1        1\n",
              "2  fire.abc173.jpg         1        1\n",
              "3  fire.abc169.jpg         1        1\n",
              "4  fire.abc171.jpg         1        1"
            ],
            "text/html": [
              "\n",
              "  <div id=\"df-4923a6b3-e32c-4322-9b18-5dac7f17fe1d\">\n",
              "    <div class=\"colab-df-container\">\n",
              "      <div>\n",
              "<style scoped>\n",
              "    .dataframe tbody tr th:only-of-type {\n",
              "        vertical-align: middle;\n",
              "    }\n",
              "\n",
              "    .dataframe tbody tr th {\n",
              "        vertical-align: top;\n",
              "    }\n",
              "\n",
              "    .dataframe thead th {\n",
              "        text-align: right;\n",
              "    }\n",
              "</style>\n",
              "<table border=\"1\" class=\"dataframe\">\n",
              "  <thead>\n",
              "    <tr style=\"text-align: right;\">\n",
              "      <th></th>\n",
              "      <th>filename</th>\n",
              "      <th>category</th>\n",
              "      <th>predict</th>\n",
              "    </tr>\n",
              "  </thead>\n",
              "  <tbody>\n",
              "    <tr>\n",
              "      <th>0</th>\n",
              "      <td>fire.abc175.jpg</td>\n",
              "      <td>1</td>\n",
              "      <td>1</td>\n",
              "    </tr>\n",
              "    <tr>\n",
              "      <th>1</th>\n",
              "      <td>fire.abc172.jpg</td>\n",
              "      <td>1</td>\n",
              "      <td>1</td>\n",
              "    </tr>\n",
              "    <tr>\n",
              "      <th>2</th>\n",
              "      <td>fire.abc173.jpg</td>\n",
              "      <td>1</td>\n",
              "      <td>1</td>\n",
              "    </tr>\n",
              "    <tr>\n",
              "      <th>3</th>\n",
              "      <td>fire.abc169.jpg</td>\n",
              "      <td>1</td>\n",
              "      <td>1</td>\n",
              "    </tr>\n",
              "    <tr>\n",
              "      <th>4</th>\n",
              "      <td>fire.abc171.jpg</td>\n",
              "      <td>1</td>\n",
              "      <td>1</td>\n",
              "    </tr>\n",
              "  </tbody>\n",
              "</table>\n",
              "</div>\n",
              "      <button class=\"colab-df-convert\" onclick=\"convertToInteractive('df-4923a6b3-e32c-4322-9b18-5dac7f17fe1d')\"\n",
              "              title=\"Convert this dataframe to an interactive table.\"\n",
              "              style=\"display:none;\">\n",
              "        \n",
              "  <svg xmlns=\"http://www.w3.org/2000/svg\" height=\"24px\"viewBox=\"0 0 24 24\"\n",
              "       width=\"24px\">\n",
              "    <path d=\"M0 0h24v24H0V0z\" fill=\"none\"/>\n",
              "    <path d=\"M18.56 5.44l.94 2.06.94-2.06 2.06-.94-2.06-.94-.94-2.06-.94 2.06-2.06.94zm-11 1L8.5 8.5l.94-2.06 2.06-.94-2.06-.94L8.5 2.5l-.94 2.06-2.06.94zm10 10l.94 2.06.94-2.06 2.06-.94-2.06-.94-.94-2.06-.94 2.06-2.06.94z\"/><path d=\"M17.41 7.96l-1.37-1.37c-.4-.4-.92-.59-1.43-.59-.52 0-1.04.2-1.43.59L10.3 9.45l-7.72 7.72c-.78.78-.78 2.05 0 2.83L4 21.41c.39.39.9.59 1.41.59.51 0 1.02-.2 1.41-.59l7.78-7.78 2.81-2.81c.8-.78.8-2.07 0-2.86zM5.41 20L4 18.59l7.72-7.72 1.47 1.35L5.41 20z\"/>\n",
              "  </svg>\n",
              "      </button>\n",
              "      \n",
              "  <style>\n",
              "    .colab-df-container {\n",
              "      display:flex;\n",
              "      flex-wrap:wrap;\n",
              "      gap: 12px;\n",
              "    }\n",
              "\n",
              "    .colab-df-convert {\n",
              "      background-color: #E8F0FE;\n",
              "      border: none;\n",
              "      border-radius: 50%;\n",
              "      cursor: pointer;\n",
              "      display: none;\n",
              "      fill: #1967D2;\n",
              "      height: 32px;\n",
              "      padding: 0 0 0 0;\n",
              "      width: 32px;\n",
              "    }\n",
              "\n",
              "    .colab-df-convert:hover {\n",
              "      background-color: #E2EBFA;\n",
              "      box-shadow: 0px 1px 2px rgba(60, 64, 67, 0.3), 0px 1px 3px 1px rgba(60, 64, 67, 0.15);\n",
              "      fill: #174EA6;\n",
              "    }\n",
              "\n",
              "    [theme=dark] .colab-df-convert {\n",
              "      background-color: #3B4455;\n",
              "      fill: #D2E3FC;\n",
              "    }\n",
              "\n",
              "    [theme=dark] .colab-df-convert:hover {\n",
              "      background-color: #434B5C;\n",
              "      box-shadow: 0px 1px 3px 1px rgba(0, 0, 0, 0.15);\n",
              "      filter: drop-shadow(0px 1px 2px rgba(0, 0, 0, 0.3));\n",
              "      fill: #FFFFFF;\n",
              "    }\n",
              "  </style>\n",
              "\n",
              "      <script>\n",
              "        const buttonEl =\n",
              "          document.querySelector('#df-4923a6b3-e32c-4322-9b18-5dac7f17fe1d button.colab-df-convert');\n",
              "        buttonEl.style.display =\n",
              "          google.colab.kernel.accessAllowed ? 'block' : 'none';\n",
              "\n",
              "        async function convertToInteractive(key) {\n",
              "          const element = document.querySelector('#df-4923a6b3-e32c-4322-9b18-5dac7f17fe1d');\n",
              "          const dataTable =\n",
              "            await google.colab.kernel.invokeFunction('convertToInteractive',\n",
              "                                                     [key], {});\n",
              "          if (!dataTable) return;\n",
              "\n",
              "          const docLinkHtml = 'Like what you see? Visit the ' +\n",
              "            '<a target=\"_blank\" href=https://colab.research.google.com/notebooks/data_table.ipynb>data table notebook</a>'\n",
              "            + ' to learn more about interactive tables.';\n",
              "          element.innerHTML = '';\n",
              "          dataTable['output_type'] = 'display_data';\n",
              "          await google.colab.output.renderOutput(dataTable, element);\n",
              "          const docLink = document.createElement('div');\n",
              "          docLink.innerHTML = docLinkHtml;\n",
              "          element.appendChild(docLink);\n",
              "        }\n",
              "      </script>\n",
              "    </div>\n",
              "  </div>\n",
              "  "
            ]
          },
          "metadata": {},
          "execution_count": 40
        }
      ]
    },
    {
      "cell_type": "code",
      "source": [
        "y_true = test_df['category'].values\n",
        "y_pred = test_df['predict'].values"
      ],
      "metadata": {
        "id": "wFzon2ipSalq"
      },
      "execution_count": null,
      "outputs": []
    },
    {
      "cell_type": "code",
      "source": [
        "from sklearn.metrics import accuracy_score\n",
        "accuracy_score(y_true, y_pred)"
      ],
      "metadata": {
        "colab": {
          "base_uri": "https://localhost:8080/"
        },
        "id": "EdC3k8OsShKE",
        "outputId": "acde1733-f9fd-4594-873c-32134da008f0"
      },
      "execution_count": null,
      "outputs": [
        {
          "output_type": "stream",
          "name": "stdout",
          "text": [
            "0.97699413547085\n"
          ]
        }
      ]
    }
  ],
  "metadata": {
    "accelerator": "GPU",
    "colab": {
      "collapsed_sections": [],
      "provenance": []
    },
    "kernelspec": {
      "display_name": "Python 3",
      "name": "python3"
    },
    "language_info": {
      "name": "python"
    }
  },
  "nbformat": 4,
  "nbformat_minor": 0
}